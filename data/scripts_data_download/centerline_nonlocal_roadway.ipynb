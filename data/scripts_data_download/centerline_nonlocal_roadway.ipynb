{
 "cells": [
  {
   "cell_type": "code",
   "execution_count": null,
   "id": "ecec6436",
   "metadata": {},
   "outputs": [],
   "source": [
    "import os\n",
    "import pandas as pd\n",
    "# folder_path = r\"D:\\Work\\Box Sync\\TRB 2024\\Extracted_links\\links\"\n",
    "# filename = 'alabama_link.csv'\n",
    "# file_path = os.path.join(folder_path, filename)\n",
    "# df = pd.read_csv(file_path, encoding='cp1252')"
   ]
  },
  {
   "cell_type": "code",
   "execution_count": null,
   "id": "fc51bb49",
   "metadata": {},
   "outputs": [],
   "source": [
    "import dask.dataframe as dd\n",
    "\n",
    "# Wildcard pattern for files\n",
    "df = dd.read_csv(r\"D:\\Work\\Box Sync\\TRB 2024\\Extracted_links\\links\\*.csv\", encoding='cp1252')\n",
    "\n",
    "result = df[df['link_type_name'].isin(['motorway', 'primary', 'secondary', 'tertiary'])]['length'].sum()/1000  #\n",
    "# Compute the result (trigger actual execution)\n",
    "final_result = result.compute()\n"
   ]
  },
  {
   "cell_type": "code",
   "execution_count": 35,
   "id": "60f8295c",
   "metadata": {},
   "outputs": [
    {
     "data": {
      "text/plain": [
       "3206799.53443"
      ]
     },
     "execution_count": 35,
     "metadata": {},
     "output_type": "execute_result"
    }
   ],
   "source": [
    "final_result"
   ]
  },
  {
   "cell_type": "code",
   "execution_count": null,
   "id": "57030510",
   "metadata": {},
   "outputs": [
    {
     "data": {
      "text/plain": [
       "202583.54313"
      ]
     },
     "execution_count": 7,
     "metadata": {},
     "output_type": "execute_result"
    }
   ],
   "source": [
    "# Wildcard pattern for files\n",
    "df = dd.read_csv(r\"D:\\Work\\Box Sync\\TRB 2024\\OSM_from_Miguel\\OSM Database\\California\\*link.csv\")\n",
    "\n",
    "result = df[df['link_type_name'].isin(['motorway', 'primary', 'secondary', 'tertiary'])]['length'].sum()/1000  #\n",
    "# Compute the result (trigger actual execution)\n",
    "final_result = result.compute()\n",
    "print(\"Centerline length of all non local links in California in kms:\")\n",
    "final_result"
   ]
  },
  {
   "cell_type": "code",
   "execution_count": null,
   "id": "9ea48a8a",
   "metadata": {},
   "outputs": [
    {
     "data": {
      "text/plain": [
       "121686.66838999999"
      ]
     },
     "execution_count": 6,
     "metadata": {},
     "output_type": "execute_result"
    }
   ],
   "source": [
    "# Wildcard pattern for files\n",
    "df = dd.read_csv(r\"D:\\Work\\Box Sync\\TRB 2024\\OSM_from_Miguel\\OSM Database\\Florida\\*link.csv\")\n",
    "\n",
    "result = df[df['link_type_name'].isin(['motorway', 'primary', 'secondary', 'tertiary'])]['length'].sum()/1000  #\n",
    "# Compute the result (trigger actual execution)\n",
    "final_result = result.compute()\n",
    "print(\"Centerline length of all non local links in Florida in kms:\")\n",
    "final_result"
   ]
  },
  {
   "cell_type": "code",
   "execution_count": null,
   "id": "e47abb8d",
   "metadata": {},
   "outputs": [
    {
     "name": "stderr",
     "output_type": "stream",
     "text": [
      "c:\\Users\\uttar\\miniforge3\\envs\\analyzeInfra\\Lib\\site-packages\\dask\\dataframe\\__init__.py:42: FutureWarning: \n",
      "Dask dataframe query planning is disabled because dask-expr is not installed.\n",
      "\n",
      "You can install it with `pip install dask[dataframe]` or `conda install dask`.\n",
      "This will raise in a future version.\n",
      "\n",
      "  warnings.warn(msg, FutureWarning)\n"
     ]
    },
    {
     "data": {
      "text/plain": [
       "352792.18469"
      ]
     },
     "execution_count": 5,
     "metadata": {},
     "output_type": "execute_result"
    }
   ],
   "source": [
    "import dask.dataframe as dd\n",
    "# Wildcard pattern for files\n",
    "df = dd.read_csv(r\"D:\\Work\\Box Sync\\TRB 2024\\OSM_from_Miguel\\OSM Database\\Texas\\*link.csv\")\n",
    "\n",
    "result = df[df['link_type_name'].isin(['motorway', 'primary', 'secondary', 'tertiary'])]['length'].sum()/1000  #\n",
    "# Compute the result (trigger actual execution)\n",
    "final_result = result.compute()\n",
    "print(\"Centerline length of all non local links in Texas in kms:\")\n",
    "final_result"
   ]
  },
  {
   "cell_type": "code",
   "execution_count": null,
   "id": "1fc123f7",
   "metadata": {},
   "outputs": [
    {
     "data": {
      "text/plain": [
       "3883861.93064"
      ]
     },
     "execution_count": 8,
     "metadata": {},
     "output_type": "execute_result"
    }
   ],
   "source": [
    "# Total centerline length of all non local links in the 50 states in the US\n",
    "3206799.53443 + 352792.18469 + 121686.66838999999 + 202583.54313"
   ]
  },
  {
   "cell_type": "code",
   "execution_count": null,
   "id": "70f9c175",
   "metadata": {},
   "outputs": [],
   "source": [
    "'''\n",
    "120 km which gets added to the already existing 3.8 million kilmeters of non-local roadways which would also require maintenance, repair and rehabilitation. \n",
    "\n",
    "'''''"
   ]
  },
  {
   "cell_type": "code",
   "execution_count": null,
   "id": "9b4ca093",
   "metadata": {},
   "outputs": [
    {
     "name": "stdout",
     "output_type": "stream",
     "text": [
      "Centerline length of all non local links in 47 states in kms:\n"
     ]
    },
    {
     "data": {
      "text/plain": [
       "3206799.53443"
      ]
     },
     "execution_count": 36,
     "metadata": {},
     "output_type": "execute_result"
    }
   ],
   "source": [
    "import os\n",
    "import pandas as pd\n",
    "\n",
    "# Set the directory where your CSV files are located\n",
    "folder_path = r\"D:\\Work\\Box Sync\\TRB 2024\\Extracted_links\\links\"\n",
    "\n",
    "# List to hold individual DataFrames\n",
    "df_list = []\n",
    "\n",
    "# Loop through all files in the folder\n",
    "for filename in os.listdir(folder_path):\n",
    "    if filename.endswith('.csv'):\n",
    "        file_path = os.path.join(folder_path, filename)\n",
    "        df = pd.read_csv(file_path, encoding='cp1252')\n",
    "        df_list.append(df)\n",
    "\n",
    "# Concatenate all DataFrames in the list\n",
    "combined_df = pd.concat(df_list, ignore_index=True)\n",
    "print(\"Centerline length of all non local links in 47 states in kms:\")\n",
    "combined_df[combined_df['link_type_name'].isin(['motorway', 'primary', 'secondary', 'tertiary'])]['length'].sum()/1000  # Convert to km\n",
    "\n",
    "\n",
    "# Set the directory where your CSV files are located\n",
    "# folder_path = r\"D:\\Work\\Box Sync\\TRB 2024\\OSM_from_Miguel\\OSM Database\\Texas\"\n",
    "\n",
    "# # List to hold individual DataFrames\n",
    "# df_list = []\n",
    "\n",
    "# # Loop through all files in the folder\n",
    "# for filename in os.listdir(folder_path):\n",
    "#     if filename.endswith('link.csv'):\n",
    "#         file_path = os.path.join(folder_path, filename)\n",
    "#         df = pd.read_csv(file_path)\n",
    "#         df_list.append(df)\n",
    "\n",
    "# # Concatenate all DataFrames in the list\n",
    "# combined_df = pd.concat(df_list, ignore_index=True)\n",
    "# print(\"Centerline length of all non local links in 47 states in kms:\")\n",
    "# combined_df[combined_df['link_type_name'].isin(['motorway', 'primary', 'secondary', 'tertiary'])]['length'].sum()/1000 "
   ]
  }
 ],
 "metadata": {
  "kernelspec": {
   "display_name": "analyzeInfra",
   "language": "python",
   "name": "python3"
  },
  "language_info": {
   "codemirror_mode": {
    "name": "ipython",
    "version": 3
   },
   "file_extension": ".py",
   "mimetype": "text/x-python",
   "name": "python",
   "nbconvert_exporter": "python",
   "pygments_lexer": "ipython3",
   "version": "3.12.0"
  }
 },
 "nbformat": 4,
 "nbformat_minor": 5
}
