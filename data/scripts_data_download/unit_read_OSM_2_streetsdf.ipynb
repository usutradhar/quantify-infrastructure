{
 "cells": [
  {
   "cell_type": "code",
   "execution_count": null,
   "id": "e2fc7524-a831-4726-9965-98c741cfad32",
   "metadata": {},
   "outputs": [
    {
     "name": "stdout",
     "output_type": "stream",
     "text": [
      "Requirement already satisfied: osm2gmns in c:\\users\\uttar\\appdata\\roaming\\python\\python312\\site-packages (0.7.5)\n",
      "Requirement already satisfied: numpy>=1.26.4 in c:\\users\\uttar\\miniforge3\\envs\\osmdownload\\lib\\site-packages (from osm2gmns) (1.26.4)\n",
      "Requirement already satisfied: osmium>=3.7.0 in c:\\users\\uttar\\miniforge3\\envs\\osmdownload\\lib\\site-packages (from osm2gmns) (4.0.2)\n",
      "Requirement already satisfied: Requests>=2.31.0 in c:\\users\\uttar\\miniforge3\\envs\\osmdownload\\lib\\site-packages (from osm2gmns) (2.31.0)\n",
      "Requirement already satisfied: setuptools>=68.2.2 in c:\\users\\uttar\\miniforge3\\envs\\osmdownload\\lib\\site-packages (from osm2gmns) (69.1.1)\n",
      "Requirement already satisfied: Shapely>=2.0.3 in c:\\users\\uttar\\miniforge3\\envs\\osmdownload\\lib\\site-packages (from osm2gmns) (2.1.0)\n",
      "Requirement already satisfied: matplotlib>=3.8.2 in c:\\users\\uttar\\appdata\\roaming\\python\\python312\\site-packages (from osm2gmns) (3.8.3)\n",
      "Requirement already satisfied: contourpy>=1.0.1 in c:\\users\\uttar\\miniforge3\\envs\\osmdownload\\lib\\site-packages (from matplotlib>=3.8.2->osm2gmns) (1.3.1)\n",
      "Requirement already satisfied: cycler>=0.10 in c:\\users\\uttar\\miniforge3\\envs\\osmdownload\\lib\\site-packages (from matplotlib>=3.8.2->osm2gmns) (0.12.1)\n",
      "Requirement already satisfied: fonttools>=4.22.0 in c:\\users\\uttar\\miniforge3\\envs\\osmdownload\\lib\\site-packages (from matplotlib>=3.8.2->osm2gmns) (4.57.0)\n",
      "Requirement already satisfied: kiwisolver>=1.3.1 in c:\\users\\uttar\\miniforge3\\envs\\osmdownload\\lib\\site-packages (from matplotlib>=3.8.2->osm2gmns) (1.4.8)\n",
      "Requirement already satisfied: packaging>=20.0 in c:\\users\\uttar\\miniforge3\\envs\\osmdownload\\lib\\site-packages (from matplotlib>=3.8.2->osm2gmns) (23.2)\n",
      "Requirement already satisfied: pillow>=8 in c:\\users\\uttar\\miniforge3\\envs\\osmdownload\\lib\\site-packages (from matplotlib>=3.8.2->osm2gmns) (11.1.0)\n",
      "Requirement already satisfied: pyparsing>=2.3.1 in c:\\users\\uttar\\miniforge3\\envs\\osmdownload\\lib\\site-packages (from matplotlib>=3.8.2->osm2gmns) (3.2.3)\n",
      "Requirement already satisfied: python-dateutil>=2.7 in c:\\users\\uttar\\miniforge3\\envs\\osmdownload\\lib\\site-packages (from matplotlib>=3.8.2->osm2gmns) (2.9.0)\n",
      "Requirement already satisfied: charset-normalizer<4,>=2 in c:\\users\\uttar\\miniforge3\\envs\\osmdownload\\lib\\site-packages (from Requests>=2.31.0->osm2gmns) (3.3.2)\n",
      "Requirement already satisfied: idna<4,>=2.5 in c:\\users\\uttar\\miniforge3\\envs\\osmdownload\\lib\\site-packages (from Requests>=2.31.0->osm2gmns) (3.6)\n",
      "Requirement already satisfied: urllib3<3,>=1.21.1 in c:\\users\\uttar\\miniforge3\\envs\\osmdownload\\lib\\site-packages (from Requests>=2.31.0->osm2gmns) (2.2.1)\n",
      "Requirement already satisfied: certifi>=2017.4.17 in c:\\users\\uttar\\miniforge3\\envs\\osmdownload\\lib\\site-packages (from Requests>=2.31.0->osm2gmns) (2024.2.2)\n",
      "Requirement already satisfied: six>=1.5 in c:\\users\\uttar\\miniforge3\\envs\\osmdownload\\lib\\site-packages (from python-dateutil>=2.7->matplotlib>=3.8.2->osm2gmns) (1.16.0)\n",
      "osm2gmns, 0.7.5\n"
     ]
    }
   ],
   "source": [
    "# This doesn't run inside the project environment \n",
    "# First install osm2gmns\n",
    "! pip install osm2gmns"
   ]
  },
  {
   "cell_type": "code",
   "execution_count": null,
   "id": "46b8578f",
   "metadata": {},
   "outputs": [],
   "source": [
    "# Import libraries\n",
    "import os\n",
    "from os import listdir\n",
    "import osm2gmns as og"
   ]
  },
  {
   "cell_type": "code",
   "execution_count": 4,
   "id": "7b2a4cc1",
   "metadata": {},
   "outputs": [],
   "source": [
    "# using downloaded large regional file from geofabrik\n",
    "# extract data to links and nodes\n",
    "def read_osm_to_link_node(file_path, file_name, prefix_saved_file):\n",
    "    os.chdir(file_path)\n",
    "    net = og.getNetFromFile(filename=file_name,\n",
    "                        network_types=('auto', 'bike', 'walk', 'railway', 'aeroway'),\n",
    "                        link_types='all',\n",
    "                        POI=False, #True,\n",
    "                        POI_sampling_ratio=1.0,\n",
    "                        strict_mode=False,\n",
    "                        offset='no',\n",
    "                        min_nodes=1,\n",
    "                        combine=False,\n",
    "                        bbox=None,\n",
    "                        default_lanes=False,\n",
    "                        default_speed=False,\n",
    "                        default_capacity=False,\n",
    "                        start_node_id=0,\n",
    "                        start_link_id=0)\n",
    "\n",
    "    og.outputNetToCSV(net, output_folder=r'E:\\Scripts\\project_QI\\data\\scripts_data_download\\Example_osm_extract\\Extracted_links\\\\', prefix=prefix_saved_file, projection=False, encoding=None)"
   ]
  },
  {
   "cell_type": "code",
   "execution_count": null,
   "id": "a5a034c2",
   "metadata": {},
   "outputs": [
    {
     "name": "stdout",
     "output_type": "stream",
     "text": [
      "arguments used for network parsing:\n",
      "  filename: delaware-latest.osm.pbf\n",
      "  network_types: ('auto', 'bike', 'walk', 'railway', 'aeroway')\n",
      "  link_types: all\n",
      "  POI: False\n",
      "  POI_sampling_ratio: 1.0\n",
      "  strict_mode: False\n",
      "  offset: no\n",
      "  min_nodes: 1\n",
      "  combine: False\n",
      "  bbox: None\n",
      "  default_lanes: False\n",
      "  default_speed: False\n",
      "  default_capacity: False\n",
      "  start_node_id: 0\n",
      "  start_link_id: 0\n",
      "\n",
      "Building Network from OSM file\n",
      "  reading osm file\n",
      "  parsing osm network\n",
      "    generating nodes and links\n",
      "  number of nodes: 196282, number of links: 435686, number of pois: 0\n",
      "Outputting Network Files\n"
     ]
    }
   ],
   "source": [
    "read_osm_to_link_node(r\"E:\\Scripts\\project_QI\\data\\scripts_data_download\\Example_osm_extract\", \"delaware-latest.osm.pbf\",prefix_saved_file= \"delware-\")"
   ]
  }
 ],
 "metadata": {
  "kernelspec": {
   "display_name": "osmdownload",
   "language": "python",
   "name": "python3"
  },
  "language_info": {
   "codemirror_mode": {
    "name": "ipython",
    "version": 3
   },
   "file_extension": ".py",
   "mimetype": "text/x-python",
   "name": "python",
   "nbconvert_exporter": "python",
   "pygments_lexer": "ipython3",
   "version": "3.12.2"
  }
 },
 "nbformat": 4,
 "nbformat_minor": 5
}
