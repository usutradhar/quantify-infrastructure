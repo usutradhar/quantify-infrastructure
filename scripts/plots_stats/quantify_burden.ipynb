{
 "cells": [
  {
   "cell_type": "markdown",
   "metadata": {},
   "source": [
    "# Quantify infrastructure burden"
   ]
  },
  {
   "cell_type": "code",
   "execution_count": 1,
   "metadata": {},
   "outputs": [],
   "source": [
    "# import all packages\n",
    "import pandas as pd\n",
    "import numpy as np\n",
    "import matplotlib.pyplot as plt\n",
    "import seaborn as sns\n",
    "\n",
    "from scripts.plots_stats.get_df_ssp import get_df_ssp"
   ]
  },
  {
   "cell_type": "code",
   "execution_count": 2,
   "metadata": {},
   "outputs": [
    {
     "name": "stdout",
     "output_type": "stream",
     "text": [
      "(30544, 23) (30544, 23) (30544, 23) (30498, 23) (30498, 23) (30498, 23)\n",
      "(30498, 41) (30544, 41)\n",
      "Total number of cities 30498\n",
      "(30498, 179) (30498, 179)\n"
     ]
    }
   ],
   "source": [
    "df_ssp = get_df_ssp()\n",
    "df = df_ssp.copy()\n",
    "print(df.shape, df_ssp.shape)"
   ]
  },
  {
   "cell_type": "markdown",
   "metadata": {},
   "source": [
    "### % cities with increasing/decreasing burden"
   ]
  },
  {
   "cell_type": "code",
   "execution_count": 3,
   "metadata": {},
   "outputs": [
    {
     "data": {
      "text/html": [
       "<div>\n",
       "<style scoped>\n",
       "    .dataframe tbody tr th:only-of-type {\n",
       "        vertical-align: middle;\n",
       "    }\n",
       "\n",
       "    .dataframe tbody tr th {\n",
       "        vertical-align: top;\n",
       "    }\n",
       "\n",
       "    .dataframe thead th {\n",
       "        text-align: right;\n",
       "    }\n",
       "</style>\n",
       "<table border=\"1\" class=\"dataframe\">\n",
       "  <thead>\n",
       "    <tr style=\"text-align: right;\">\n",
       "      <th></th>\n",
       "      <th>RBUV_Burden_2050_ssp1</th>\n",
       "      <th>RBUV_Burden_2050</th>\n",
       "      <th>RBUV_Burden_2050_ssp4</th>\n",
       "      <th>RBUV_Burden_2100_ssp1</th>\n",
       "      <th>RBUV_Burden_2100</th>\n",
       "      <th>RBUV_Burden_2100_ssp4</th>\n",
       "    </tr>\n",
       "  </thead>\n",
       "  <tbody>\n",
       "    <tr>\n",
       "      <th>decreasingBurden</th>\n",
       "      <td>17547</td>\n",
       "      <td>15894</td>\n",
       "      <td>11970</td>\n",
       "      <td>9596</td>\n",
       "      <td>11084</td>\n",
       "      <td>3087</td>\n",
       "    </tr>\n",
       "    <tr>\n",
       "      <th>increasingBurden</th>\n",
       "      <td>12753</td>\n",
       "      <td>14438</td>\n",
       "      <td>18382</td>\n",
       "      <td>20722</td>\n",
       "      <td>19233</td>\n",
       "      <td>27334</td>\n",
       "    </tr>\n",
       "    <tr>\n",
       "      <th>noChange</th>\n",
       "      <td>198</td>\n",
       "      <td>166</td>\n",
       "      <td>146</td>\n",
       "      <td>180</td>\n",
       "      <td>181</td>\n",
       "      <td>77</td>\n",
       "    </tr>\n",
       "  </tbody>\n",
       "</table>\n",
       "</div>"
      ],
      "text/plain": [
       "                  RBUV_Burden_2050_ssp1  RBUV_Burden_2050  \\\n",
       "decreasingBurden                  17547             15894   \n",
       "increasingBurden                  12753             14438   \n",
       "noChange                            198               166   \n",
       "\n",
       "                  RBUV_Burden_2050_ssp4  RBUV_Burden_2100_ssp1  \\\n",
       "decreasingBurden                  11970                   9596   \n",
       "increasingBurden                  18382                  20722   \n",
       "noChange                            146                    180   \n",
       "\n",
       "                  RBUV_Burden_2100  RBUV_Burden_2100_ssp4  \n",
       "decreasingBurden             11084                   3087  \n",
       "increasingBurden             19233                  27334  \n",
       "noChange                       181                     77  "
      ]
     },
     "execution_count": 3,
     "metadata": {},
     "output_type": "execute_result"
    }
   ],
   "source": [
    "df[['RBUV_Burden_2050_ssp1','RBUV_Burden_2050','RBUV_Burden_2050_ssp4', 'RBUV_Burden_2100_ssp1', 'RBUV_Burden_2100', 'RBUV_Burden_2100_ssp4']].apply(pd.Series.value_counts)"
   ]
  },
  {
   "cell_type": "code",
   "execution_count": 4,
   "metadata": {},
   "outputs": [
    {
     "data": {
      "text/html": [
       "<div>\n",
       "<style scoped>\n",
       "    .dataframe tbody tr th:only-of-type {\n",
       "        vertical-align: middle;\n",
       "    }\n",
       "\n",
       "    .dataframe tbody tr th {\n",
       "        vertical-align: top;\n",
       "    }\n",
       "\n",
       "    .dataframe thead th {\n",
       "        text-align: right;\n",
       "    }\n",
       "</style>\n",
       "<table border=\"1\" class=\"dataframe\">\n",
       "  <thead>\n",
       "    <tr style=\"text-align: right;\">\n",
       "      <th></th>\n",
       "      <th>RBUV_Burden_2050_ssp1</th>\n",
       "      <th>RBUV_Burden_2050</th>\n",
       "      <th>RBUV_Burden_2050_ssp4</th>\n",
       "      <th>RBUV_Burden_2100_ssp1</th>\n",
       "      <th>RBUV_Burden_2100</th>\n",
       "      <th>RBUV_Burden_2100_ssp4</th>\n",
       "    </tr>\n",
       "  </thead>\n",
       "  <tbody>\n",
       "    <tr>\n",
       "      <th>decreasingBurden</th>\n",
       "      <td>58.0</td>\n",
       "      <td>52.0</td>\n",
       "      <td>39.0</td>\n",
       "      <td>31.0</td>\n",
       "      <td>36.0</td>\n",
       "      <td>10.0</td>\n",
       "    </tr>\n",
       "    <tr>\n",
       "      <th>increasingBurden</th>\n",
       "      <td>42.0</td>\n",
       "      <td>47.0</td>\n",
       "      <td>60.0</td>\n",
       "      <td>68.0</td>\n",
       "      <td>63.0</td>\n",
       "      <td>90.0</td>\n",
       "    </tr>\n",
       "    <tr>\n",
       "      <th>noChange</th>\n",
       "      <td>1.0</td>\n",
       "      <td>1.0</td>\n",
       "      <td>0.0</td>\n",
       "      <td>1.0</td>\n",
       "      <td>1.0</td>\n",
       "      <td>0.0</td>\n",
       "    </tr>\n",
       "  </tbody>\n",
       "</table>\n",
       "</div>"
      ],
      "text/plain": [
       "                  RBUV_Burden_2050_ssp1  RBUV_Burden_2050  \\\n",
       "decreasingBurden                   58.0              52.0   \n",
       "increasingBurden                   42.0              47.0   \n",
       "noChange                            1.0               1.0   \n",
       "\n",
       "                  RBUV_Burden_2050_ssp4  RBUV_Burden_2100_ssp1  \\\n",
       "decreasingBurden                   39.0                   31.0   \n",
       "increasingBurden                   60.0                   68.0   \n",
       "noChange                            0.0                    1.0   \n",
       "\n",
       "                  RBUV_Burden_2100  RBUV_Burden_2100_ssp4  \n",
       "decreasingBurden              36.0                   10.0  \n",
       "increasingBurden              63.0                   90.0  \n",
       "noChange                       1.0                    0.0  "
      ]
     },
     "execution_count": 4,
     "metadata": {},
     "output_type": "execute_result"
    }
   ],
   "source": [
    "(df[['RBUV_Burden_2050_ssp1','RBUV_Burden_2050','RBUV_Burden_2050_ssp4', 'RBUV_Burden_2100_ssp1', 'RBUV_Burden_2100', 'RBUV_Burden_2100_ssp4']].apply(pd.Series.value_counts)*100/df.shape[0]).round()"
   ]
  },
  {
   "cell_type": "code",
   "execution_count": 5,
   "metadata": {},
   "outputs": [
    {
     "data": {
      "text/html": [
       "<div>\n",
       "<style scoped>\n",
       "    .dataframe tbody tr th:only-of-type {\n",
       "        vertical-align: middle;\n",
       "    }\n",
       "\n",
       "    .dataframe tbody tr th {\n",
       "        vertical-align: top;\n",
       "    }\n",
       "\n",
       "    .dataframe thead th {\n",
       "        text-align: right;\n",
       "    }\n",
       "</style>\n",
       "<table border=\"1\" class=\"dataframe\">\n",
       "  <thead>\n",
       "    <tr style=\"text-align: right;\">\n",
       "      <th></th>\n",
       "      <th>RL_Burden_2050_ssp1</th>\n",
       "      <th>RL_Burden_2050</th>\n",
       "      <th>RL_Burden_2050_ssp4</th>\n",
       "      <th>RL_Burden_2100_ssp1</th>\n",
       "      <th>RL_Burden_2100</th>\n",
       "      <th>RL_Burden_2100_ssp4</th>\n",
       "    </tr>\n",
       "  </thead>\n",
       "  <tbody>\n",
       "    <tr>\n",
       "      <th>decreasingBurden</th>\n",
       "      <td>16823</td>\n",
       "      <td>15117</td>\n",
       "      <td>11132</td>\n",
       "      <td>10577</td>\n",
       "      <td>10964</td>\n",
       "      <td>3737</td>\n",
       "    </tr>\n",
       "    <tr>\n",
       "      <th>increasingBurden</th>\n",
       "      <td>10827</td>\n",
       "      <td>12490</td>\n",
       "      <td>16448</td>\n",
       "      <td>17153</td>\n",
       "      <td>16828</td>\n",
       "      <td>23875</td>\n",
       "    </tr>\n",
       "    <tr>\n",
       "      <th>noChange</th>\n",
       "      <td>2848</td>\n",
       "      <td>2891</td>\n",
       "      <td>2918</td>\n",
       "      <td>2768</td>\n",
       "      <td>2706</td>\n",
       "      <td>2886</td>\n",
       "    </tr>\n",
       "  </tbody>\n",
       "</table>\n",
       "</div>"
      ],
      "text/plain": [
       "                  RL_Burden_2050_ssp1  RL_Burden_2050  RL_Burden_2050_ssp4  \\\n",
       "decreasingBurden                16823           15117                11132   \n",
       "increasingBurden                10827           12490                16448   \n",
       "noChange                         2848            2891                 2918   \n",
       "\n",
       "                  RL_Burden_2100_ssp1  RL_Burden_2100  RL_Burden_2100_ssp4  \n",
       "decreasingBurden                10577           10964                 3737  \n",
       "increasingBurden                17153           16828                23875  \n",
       "noChange                         2768            2706                 2886  "
      ]
     },
     "execution_count": 5,
     "metadata": {},
     "output_type": "execute_result"
    }
   ],
   "source": [
    "df[['RL_Burden_2050_ssp1','RL_Burden_2050','RL_Burden_2050_ssp4', 'RL_Burden_2100_ssp1', 'RL_Burden_2100', 'RL_Burden_2100_ssp4']].apply(pd.Series.value_counts)"
   ]
  },
  {
   "cell_type": "code",
   "execution_count": 6,
   "metadata": {},
   "outputs": [
    {
     "data": {
      "text/html": [
       "<div>\n",
       "<style scoped>\n",
       "    .dataframe tbody tr th:only-of-type {\n",
       "        vertical-align: middle;\n",
       "    }\n",
       "\n",
       "    .dataframe tbody tr th {\n",
       "        vertical-align: top;\n",
       "    }\n",
       "\n",
       "    .dataframe thead th {\n",
       "        text-align: right;\n",
       "    }\n",
       "</style>\n",
       "<table border=\"1\" class=\"dataframe\">\n",
       "  <thead>\n",
       "    <tr style=\"text-align: right;\">\n",
       "      <th></th>\n",
       "      <th>RL_Burden_2050_ssp1</th>\n",
       "      <th>RL_Burden_2050</th>\n",
       "      <th>RL_Burden_2050_ssp4</th>\n",
       "      <th>RL_Burden_2100_ssp1</th>\n",
       "      <th>RL_Burden_2100</th>\n",
       "      <th>RL_Burden_2100_ssp4</th>\n",
       "    </tr>\n",
       "  </thead>\n",
       "  <tbody>\n",
       "    <tr>\n",
       "      <th>decreasingBurden</th>\n",
       "      <td>55.0</td>\n",
       "      <td>50.0</td>\n",
       "      <td>37.0</td>\n",
       "      <td>35.0</td>\n",
       "      <td>36.0</td>\n",
       "      <td>12.0</td>\n",
       "    </tr>\n",
       "    <tr>\n",
       "      <th>increasingBurden</th>\n",
       "      <td>36.0</td>\n",
       "      <td>41.0</td>\n",
       "      <td>54.0</td>\n",
       "      <td>56.0</td>\n",
       "      <td>55.0</td>\n",
       "      <td>78.0</td>\n",
       "    </tr>\n",
       "    <tr>\n",
       "      <th>noChange</th>\n",
       "      <td>9.0</td>\n",
       "      <td>9.0</td>\n",
       "      <td>10.0</td>\n",
       "      <td>9.0</td>\n",
       "      <td>9.0</td>\n",
       "      <td>9.0</td>\n",
       "    </tr>\n",
       "  </tbody>\n",
       "</table>\n",
       "</div>"
      ],
      "text/plain": [
       "                  RL_Burden_2050_ssp1  RL_Burden_2050  RL_Burden_2050_ssp4  \\\n",
       "decreasingBurden                 55.0            50.0                 37.0   \n",
       "increasingBurden                 36.0            41.0                 54.0   \n",
       "noChange                          9.0             9.0                 10.0   \n",
       "\n",
       "                  RL_Burden_2100_ssp1  RL_Burden_2100  RL_Burden_2100_ssp4  \n",
       "decreasingBurden                 35.0            36.0                 12.0  \n",
       "increasingBurden                 56.0            55.0                 78.0  \n",
       "noChange                          9.0             9.0                  9.0  "
      ]
     },
     "execution_count": 6,
     "metadata": {},
     "output_type": "execute_result"
    }
   ],
   "source": [
    "(df[['RL_Burden_2050_ssp1','RL_Burden_2050','RL_Burden_2050_ssp4', 'RL_Burden_2100_ssp1', 'RL_Burden_2100', 'RL_Burden_2100_ssp4']].apply(pd.Series.value_counts)*100/df.shape[0]).round()"
   ]
  },
  {
   "cell_type": "code",
   "execution_count": 7,
   "metadata": {},
   "outputs": [
    {
     "data": {
      "text/plain": [
       "(0.4095350514787855, 0.55177388681225)"
      ]
     },
     "execution_count": 7,
     "metadata": {},
     "output_type": "execute_result"
    }
   ],
   "source": [
    "df[(df['RBUV_Burden_2050']=='increasingBurden') & (df['RL_Burden_2050']=='increasingBurden')].shape[0]/df.shape[0], df[(df['RBUV_Burden_2100']=='increasingBurden') & (df['RL_Burden_2100']=='increasingBurden')].shape[0]/df.shape[0]"
   ]
  },
  {
   "cell_type": "markdown",
   "metadata": {},
   "source": [
    "### Constantly decreasing burden"
   ]
  },
  {
   "cell_type": "code",
   "execution_count": 8,
   "metadata": {},
   "outputs": [
    {
     "name": "stdout",
     "output_type": "stream",
     "text": [
      "cities that face constantly decreasing burden for RBUV 25.0\n",
      "cities that face constantly decreasing burden for RL 25.0\n"
     ]
    }
   ],
   "source": [
    "condition = (df_ssp['volume_m3_perCap_2020_ssp2'] > df_ssp['volume_m3_perCap_2030_ssp2']) & (df_ssp['volume_m3_perCap_2030_ssp2'] > df_ssp['volume_m3_perCap_2040_ssp2']) & \\\n",
    "            (df_ssp['volume_m3_perCap_2040_ssp2'] > df_ssp['volume_m3_perCap_2050_ssp2']) & (df_ssp['volume_m3_perCap_2050_ssp2'] > df_ssp['volume_m3_perCap_2060_ssp2']) & \\\n",
    "            (df_ssp['volume_m3_perCap_2060_ssp2'] > df_ssp['volume_m3_perCap_2070_ssp2']) & (df_ssp['volume_m3_perCap_2070_ssp2'] > df_ssp['volume_m3_perCap_2080_ssp2']) & \\\n",
    "            (df_ssp['volume_m3_perCap_2080_ssp2'] > df_ssp['volume_m3_perCap_2090_ssp2']) & (df_ssp['volume_m3_perCap_2090_ssp2'] > df_ssp['volume_m3_perCap_2100_ssp2'])\n",
    "print(f\"cities that face constantly decreasing burden for RBUV {np.round(df_ssp[condition].shape[0]*100/df_ssp.shape[0], 0)}\")\n",
    "\n",
    "condition = (df_ssp['length_m_perCap_2020_ssp2'] > df_ssp['length_m_perCap_2030_ssp2']) & (df_ssp['length_m_perCap_2030_ssp2'] > df_ssp['length_m_perCap_2040_ssp2']) & \\\n",
    "            (df_ssp['length_m_perCap_2040_ssp2'] > df_ssp['length_m_perCap_2050_ssp2']) & (df_ssp['length_m_perCap_2050_ssp2'] > df_ssp['length_m_perCap_2060_ssp2']) & \\\n",
    "            (df_ssp['length_m_perCap_2060_ssp2'] > df_ssp['length_m_perCap_2070_ssp2']) & (df_ssp['length_m_perCap_2070_ssp2'] > df_ssp['length_m_perCap_2080_ssp2']) & \\\n",
    "            (df_ssp['length_m_perCap_2080_ssp2'] > df_ssp['length_m_perCap_2090_ssp2']) & (df_ssp['length_m_perCap_2090_ssp2'] > df_ssp['length_m_perCap_2100_ssp2'])\n",
    "print(f\"cities that face constantly decreasing burden for RL {np.round(df_ssp[condition].shape[0]*100/df_ssp.shape[0], 0)}\")"
   ]
  },
  {
   "cell_type": "code",
   "execution_count": 9,
   "metadata": {},
   "outputs": [
    {
     "name": "stdout",
     "output_type": "stream",
     "text": [
      "cities that face constantly decreasing burden for RBUV 14.0\n",
      "cities that face constantly decreasing burden for RL 14.0\n"
     ]
    }
   ],
   "source": [
    "condition = (df_ssp['volume_m3_perCap_2020_ssp1'] > df_ssp['volume_m3_perCap_2030_ssp1']) & (df_ssp['volume_m3_perCap_2030_ssp1'] > df_ssp['volume_m3_perCap_2040_ssp1']) & \\\n",
    "            (df_ssp['volume_m3_perCap_2040_ssp1'] > df_ssp['volume_m3_perCap_2050_ssp1']) & (df_ssp['volume_m3_perCap_2050_ssp1'] > df_ssp['volume_m3_perCap_2060_ssp1']) & \\\n",
    "            (df_ssp['volume_m3_perCap_2060_ssp1'] > df_ssp['volume_m3_perCap_2070_ssp1']) & (df_ssp['volume_m3_perCap_2070_ssp1'] > df_ssp['volume_m3_perCap_2080_ssp1']) & \\\n",
    "            (df_ssp['volume_m3_perCap_2080_ssp1'] > df_ssp['volume_m3_perCap_2090_ssp1']) & (df_ssp['volume_m3_perCap_2090_ssp1'] > df_ssp['volume_m3_perCap_2100_ssp1'])\n",
    "print(f\"cities that face constantly decreasing burden for RBUV {np.round(df_ssp[condition].shape[0]*100/df_ssp.shape[0], 0)}\")\n",
    "\n",
    "condition = (df_ssp['length_m_perCap_2020_ssp1'] > df_ssp['length_m_perCap_2030_ssp1']) & (df_ssp['length_m_perCap_2030_ssp1'] > df_ssp['length_m_perCap_2040_ssp1']) & \\\n",
    "            (df_ssp['length_m_perCap_2040_ssp1'] > df_ssp['length_m_perCap_2050_ssp1']) & (df_ssp['length_m_perCap_2050_ssp1'] > df_ssp['length_m_perCap_2060_ssp1']) & \\\n",
    "            (df_ssp['length_m_perCap_2060_ssp1'] > df_ssp['length_m_perCap_2070_ssp1']) & (df_ssp['length_m_perCap_2070_ssp1'] > df_ssp['length_m_perCap_2080_ssp1']) & \\\n",
    "            (df_ssp['length_m_perCap_2080_ssp1'] > df_ssp['length_m_perCap_2090_ssp1']) & (df_ssp['length_m_perCap_2090_ssp1'] > df_ssp['length_m_perCap_2100_ssp1'])\n",
    "print(f\"cities that face constantly decreasing burden for RL {np.round(df_ssp[condition].shape[0]*100/df_ssp.shape[0], 0)}\")"
   ]
  },
  {
   "cell_type": "code",
   "execution_count": 10,
   "metadata": {},
   "outputs": [
    {
     "name": "stdout",
     "output_type": "stream",
     "text": [
      "cities that face constantly decreasing burden for RBUV 3.0\n",
      "cities that face constantly decreasing burden for RL 4.0\n"
     ]
    }
   ],
   "source": [
    "condition = (df_ssp['volume_m3_perCap_2020_ssp4'] > df_ssp['volume_m3_perCap_2030_ssp4']) & (df_ssp['volume_m3_perCap_2030_ssp4'] > df_ssp['volume_m3_perCap_2040_ssp4']) & \\\n",
    "            (df_ssp['volume_m3_perCap_2040_ssp4'] > df_ssp['volume_m3_perCap_2050_ssp4']) & (df_ssp['volume_m3_perCap_2050_ssp4'] > df_ssp['volume_m3_perCap_2060_ssp4']) & \\\n",
    "            (df_ssp['volume_m3_perCap_2060_ssp4'] > df_ssp['volume_m3_perCap_2070_ssp4']) & (df_ssp['volume_m3_perCap_2070_ssp4'] > df_ssp['volume_m3_perCap_2080_ssp4']) & \\\n",
    "            (df_ssp['volume_m3_perCap_2080_ssp4'] > df_ssp['volume_m3_perCap_2090_ssp4']) & (df_ssp['volume_m3_perCap_2090_ssp4'] > df_ssp['volume_m3_perCap_2100_ssp4'])\n",
    "print(f\"cities that face constantly decreasing burden for RBUV {np.round(df_ssp[condition].shape[0]*100/df_ssp.shape[0], 0)}\")\n",
    "\n",
    "condition = (df_ssp['length_m_perCap_2020_ssp4'] > df_ssp['length_m_perCap_2030_ssp4']) & (df_ssp['length_m_perCap_2030_ssp4'] > df_ssp['length_m_perCap_2040_ssp4']) & \\\n",
    "            (df_ssp['length_m_perCap_2040_ssp4'] > df_ssp['length_m_perCap_2050_ssp4']) & (df_ssp['length_m_perCap_2050_ssp4'] > df_ssp['length_m_perCap_2060_ssp4']) & \\\n",
    "            (df_ssp['length_m_perCap_2060_ssp4'] > df_ssp['length_m_perCap_2070_ssp4']) & (df_ssp['length_m_perCap_2070_ssp4'] > df_ssp['length_m_perCap_2080_ssp4']) & \\\n",
    "            (df_ssp['length_m_perCap_2080_ssp4'] > df_ssp['length_m_perCap_2090_ssp4']) & (df_ssp['length_m_perCap_2090_ssp4'] > df_ssp['length_m_perCap_2100_ssp4'])\n",
    "print(f\"cities that face constantly decreasing burden for RL {np.round(df_ssp[condition].shape[0]*100/df_ssp.shape[0], 0)}\")"
   ]
  },
  {
   "cell_type": "code",
   "execution_count": 11,
   "metadata": {},
   "outputs": [
    {
     "name": "stdout",
     "output_type": "stream",
     "text": [
      "Percent cities with decreasing built volumes\n",
      "65.71\n",
      "52.59\n",
      "47.41\n",
      "49.89\n",
      "48.29\n",
      "42.33\n",
      "34.2\n",
      "27.16\n",
      "Percent cities with decreasing roadways\n",
      "65.79\n",
      "52.75\n",
      "47.56\n",
      "50.09\n",
      "48.51\n",
      "42.56\n",
      "34.31\n",
      "27.29\n"
     ]
    }
   ],
   "source": [
    "df_ssp.filter(regex='volume').columns\n",
    "print(\"Percent cities with decreasing built volumes\")\n",
    "\n",
    "column_nmaes1 = ['volume_m3_perCap_2020_ssp2','volume_m3_perCap_2030_ssp2', 'volume_m3_perCap_2040_ssp2','volume_m3_perCap_2050_ssp2', 'volume_m3_perCap_2060_ssp2',\n",
    "                'volume_m3_perCap_2070_ssp2', 'volume_m3_perCap_2080_ssp2', 'volume_m3_perCap_2090_ssp2']\n",
    "column_nmaes2 = ['volume_m3_perCap_2030_ssp2', 'volume_m3_perCap_2040_ssp2','volume_m3_perCap_2050_ssp2', 'volume_m3_perCap_2060_ssp2',\n",
    "                'volume_m3_perCap_2070_ssp2', 'volume_m3_perCap_2080_ssp2', 'volume_m3_perCap_2090_ssp2', 'volume_m3_perCap_2100_ssp2']\n",
    "for col1, col2 in zip(column_nmaes1, column_nmaes2):\n",
    "    print(np.round(df_ssp[df_ssp[col2] < df_ssp[col1]].shape[0]*100/df_ssp.shape[0],2))\n",
    "\n",
    "print(\"Percent cities with decreasing roadways\")\n",
    "\n",
    "column_nmaes1 = ['length_m_perCap_2020_ssp2','length_m_perCap_2030_ssp2', 'length_m_perCap_2040_ssp2','length_m_perCap_2050_ssp2', \n",
    "                 'length_m_perCap_2060_ssp2','length_m_perCap_2070_ssp2', 'length_m_perCap_2080_ssp2', 'length_m_perCap_2090_ssp2']\n",
    "column_nmaes2 = ['length_m_perCap_2030_ssp2', 'length_m_perCap_2040_ssp2','length_m_perCap_2050_ssp2', 'length_m_perCap_2060_ssp2',\n",
    "                 'length_m_perCap_2070_ssp2', 'length_m_perCap_2080_ssp2', 'length_m_perCap_2090_ssp2', 'length_m_perCap_2100_ssp2']\n",
    "for col1, col2 in zip(column_nmaes1, column_nmaes2):\n",
    "    print(np.round(df_ssp[df_ssp[col2] < df_ssp[col1]].shape[0]*100/df_ssp.shape[0],2))"
   ]
  },
  {
   "cell_type": "code",
   "execution_count": 12,
   "metadata": {},
   "outputs": [],
   "source": [
    "# df_ssp.filter(regex='volume').columns\n",
    "# print(\"Percent cities with decreasing built volumes\")\n",
    "\n",
    "# column_nmaes1 = ['volume_m3_perCap_2020_ssp1','volume_m3_perCap_2030_ssp1', 'volume_m3_perCap_2040_ssp1','volume_m3_perCap_2050_ssp1', 'volume_m3_perCap_2060_ssp1',\n",
    "#                 'volume_m3_perCap_2070_ssp1', 'volume_m3_perCap_2080_ssp1', 'volume_m3_perCap_2090_ssp1']\n",
    "# column_nmaes2 = ['volume_m3_perCap_2030_ssp1', 'volume_m3_perCap_2040_ssp1','volume_m3_perCap_2050_ssp1', 'volume_m3_perCap_2060_ssp1',\n",
    "#                 'volume_m3_perCap_2070_ssp1', 'volume_m3_perCap_2080_ssp1', 'volume_m3_perCap_2090_ssp1', 'volume_m3_perCap_2100_ssp1']\n",
    "# for col1, col2 in zip(column_nmaes1, column_nmaes2):\n",
    "#     print(np.round(df_ssp[df_ssp[col2] < df_ssp[col1]].shape[0]*100/df_ssp.shape[0],2))\n",
    "\n",
    "# print(\"Percent cities with decreasing roadways\")\n",
    "\n",
    "# column_nmaes1 = ['length_m_perCap_2020_ssp1','length_m_perCap_2030_ssp1', 'length_m_perCap_2040_ssp1','length_m_perCap_2050_ssp1', \n",
    "#                  'length_m_perCap_2060_ssp1','length_m_perCap_2070_ssp1', 'length_m_perCap_2080_ssp1', 'length_m_perCap_2090_ssp1']\n",
    "# column_nmaes2 = ['length_m_perCap_2030_ssp1', 'length_m_perCap_2040_ssp1','length_m_perCap_2050_ssp1', 'length_m_perCap_2060_ssp1',\n",
    "#                  'length_m_perCap_2070_ssp1', 'length_m_perCap_2080_ssp1', 'length_m_perCap_2090_ssp1', 'length_m_perCap_2100_ssp1']\n",
    "# for col1, col2 in zip(column_nmaes1, column_nmaes2):\n",
    "#     print(np.round(df_ssp[df_ssp[col2] < df_ssp[col1]].shape[0]*100/df_ssp.shape[0],2))"
   ]
  },
  {
   "cell_type": "markdown",
   "metadata": {},
   "source": [
    "### Addandoned RBUV / RL\n",
    "### Consider 2% and 8% decadal demolition for housing stock"
   ]
  },
  {
   "cell_type": "code",
   "execution_count": 57,
   "metadata": {},
   "outputs": [],
   "source": [
    "def additional_infrastructure_in_increasing_burden_cities(df, pop0, pop1, pop2, perCap_infra0, perCap_infra1, perCap_infra2, burden_colt1, burden_colt2, infra_type):\n",
    "\n",
    "    df['total_infra0'] = df[pop0] * df[perCap_infra0]\n",
    "    df['total_infra1'] = df[pop1] * df[perCap_infra1]\n",
    "    df['total_infra2'] = df[pop2] * df[perCap_infra2]\n",
    "\n",
    "    # total roadway length in 2020 for increasing burden cities\n",
    "    increasing_burden_cities_2050_total_infra_2020_ssp2 = df[(df[burden_colt1] == 'increasingBurden')]['total_infra0'].sum()\n",
    "    # print(increasing_burden_cities_2050_total_infra_2020_ssp2)\n",
    "    # total roadway length in 2050 for increasing burden cities\n",
    "    increasing_burden_cities_2050_total_infra_2050_ssp2 = df[(df[burden_colt1] == 'increasingBurden')]['total_infra1'].sum()\n",
    "    # print(increasing_burden_cities_2050_total_infra_2050_ssp2)\n",
    "\n",
    "    per_cap_2020_increasing_burden_cities_2050 = increasing_burden_cities_2050_total_infra_2020_ssp2 / df[(df[burden_colt1] == 'increasingBurden')][pop0].sum()\n",
    "    per_cap_2050_increasing_burden_cities_2050 = increasing_burden_cities_2050_total_infra_2050_ssp2 / df[(df[burden_colt1] == 'increasingBurden')][pop1].sum().round(0)\n",
    "    # print(per_cap_2020_increasing_burden_cities_2050, per_cap_2050_increasing_burden_cities_2050)\n",
    "    # print(df[(df[burden_colt1] == 'increasingBurden')][pop0].sum(), df[(df[burden_colt1] == 'increasingBurden')][pop1].sum().round(0))\n",
    "\n",
    "    change_per_cap_infra_increasing_burden_cities_2050 = per_cap_2050_increasing_burden_cities_2050 - per_cap_2020_increasing_burden_cities_2050\n",
    "    # print(change_per_cap_infra_increasing_burden_cities_2050)\n",
    "    # print(f\"per capita lane kms in 2020 for increasing burden cities {change_per_cap_lane_km_increasing_burden_cities_2050}\")\n",
    "    # total roadway length that will be burden in 2050 = change_per_cap_lane_km_increasing_burden_cities_2050 * 2050 population\n",
    "    added_infrastructure_in_2050 = change_per_cap_infra_increasing_burden_cities_2050 * df[(df[burden_colt1] == 'increasingBurden')][pop1].sum().round(0)\n",
    "    # print(f\"added infrastruture from 2020 to 2050 {added_infrastructure_in_2050}\")\n",
    "\n",
    "\n",
    "    # total roadway length in 2050 for increasing burden cities\n",
    "    increasing_burden_cities_2100_total_infra_2050_ssp2 = df[(df[burden_colt2] == 'increasingBurden')]['total_infra1'].sum()\n",
    "    # total roadway length in 2100 for increasing burden cities\n",
    "    increasing_burden_cities_2100_total_infra_2100_ssp2 = df[(df[burden_colt2] == 'increasingBurden')]['total_infra2'].sum()\n",
    "    per_cap_2050_increasing_burden_cities_2100 = increasing_burden_cities_2100_total_infra_2050_ssp2 / df[(df[burden_colt2] == 'increasingBurden')][pop1].sum().round(0)\n",
    "    per_cap_2100_increasing_burden_cities_2100 = increasing_burden_cities_2100_total_infra_2100_ssp2 / df[(df[burden_colt2] == 'increasingBurden')][pop2].sum().round(0)\n",
    "    change_per_cap_infra_increasing_burden_cities_2100 = per_cap_2100_increasing_burden_cities_2100 - per_cap_2050_increasing_burden_cities_2100\n",
    "    # print(f\"per capita lane kms in 2050 for increasing burden cities {change_per_cap_lane_km_increasing_burden_cities_2100}\")\n",
    "    # total roadway length that will be burden in 2100 = change_per_cap_lane_km_increasing_burden_cities_2100 * 2100 population\n",
    "    added_infrastructure_in_2100 = change_per_cap_infra_increasing_burden_cities_2100*df[(df[burden_colt2] == 'increasingBurden')][pop2].sum().round(0)\n",
    "    # print(f\"added infrastruture from 2050 to 2100 {added_infrastructure_in_2100}\")\n",
    "\n",
    "\n",
    "    if infra_type == 'RBUV':\n",
    "        print('Additional housing units in cities with an increasing burden')\n",
    "        print(\"====================================================================================\")\n",
    "        median_HU_volume = 1663 # in cubic meter Median housing unit volume in cubic meters from ACS Table S2504\n",
    "        \n",
    "        added_units_2020_2050 = np.round(added_infrastructure_in_2050/ median_HU_volume)\n",
    "        print(f\"Added housing units in 2050, {added_units_2020_2050}\")\n",
    "        print(\"Remaining abandoned units after 2% and 8% decadal demolition in 2050\")\n",
    "        print(np.round(added_units_2020_2050* (1-0.02)**3), np.round(added_units_2020_2050*(1-0.08)**3))\n",
    "        # print('\\n')\n",
    "        added_units_2050_2100 = np.round(added_infrastructure_in_2100/ median_HU_volume)\n",
    "        print(f\"Added housing units in 2100, {added_units_2050_2100}\")        \n",
    "        print(\"Remaining abandoned units after 2% and 8% decadal demolition in 2100\")\n",
    "        print(np.round(added_units_2050_2100*(1-0.02)**5), np.round(added_units_2050_2100*(1-0.08)**5))\n",
    "        print(\"====================================================================================\\n\")\n",
    "\n",
    "    elif infra_type == 'RL':\n",
    "        print('Additional RL in cities with an increasing burden in kilometers')\n",
    "        print(\"====================================================================================\")\n",
    "        print(f\"By 2050 local lane that will be burden {(added_infrastructure_in_2050/1000).round(2)} km\")\n",
    "        print(f\"By 2100 local lane that will be burden {(added_infrastructure_in_2100/1000).round(2)} km\")\n",
    "        print(\"\\n\")\n",
    "    else:\n",
    "        print(\"Check the conditions / parameters.\")\n"
   ]
  },
  {
   "cell_type": "code",
   "execution_count": 56,
   "metadata": {},
   "outputs": [
    {
     "name": "stdout",
     "output_type": "stream",
     "text": [
      "1912099396.2599998\n"
     ]
    },
    {
     "data": {
      "text/plain": [
       "(1149789.1739386648, 1082172.3721976797)"
      ]
     },
     "execution_count": 56,
     "metadata": {},
     "output_type": "execute_result"
    }
   ],
   "source": [
    "x = 74.82*25555993\n",
    "print(x)\n",
    "x/1663, (x/1663)*(1-.02)**3"
   ]
  },
  {
   "cell_type": "markdown",
   "metadata": {},
   "source": [
    "### Excluding cities over 10000 per cap volume ==== For cities with an increasing burden"
   ]
  },
  {
   "cell_type": "code",
   "execution_count": 58,
   "metadata": {},
   "outputs": [
    {
     "name": "stdout",
     "output_type": "stream",
     "text": [
      "(30498, 182) (30498, 179)\n",
      "SSP 1 ==============\n",
      "Additional housing units in cities with an increasing burden\n",
      "====================================================================================\n",
      "Added housing units in 2050, 938246.0\n",
      "Remaining abandoned units after 2% and 8% decadal demolition in 2050\n",
      "883070.0 730601.0\n",
      "Added housing units in 2100, 3613731.0\n",
      "Remaining abandoned units after 2% and 8% decadal demolition in 2100\n",
      "3266527.0 2381743.0\n",
      "====================================================================================\n",
      "\n",
      "SSP 2 ==============\n",
      "Additional housing units in cities with an increasing burden\n",
      "====================================================================================\n",
      "Added housing units in 2050, 1149747.0\n",
      "Remaining abandoned units after 2% and 8% decadal demolition in 2050\n",
      "1082133.0 895294.0\n",
      "Added housing units in 2100, 3070966.0\n",
      "Remaining abandoned units after 2% and 8% decadal demolition in 2100\n",
      "2775910.0 2024017.0\n",
      "====================================================================================\n",
      "\n",
      "SSP 4 ==============\n",
      "Additional housing units in cities with an increasing burden\n",
      "====================================================================================\n",
      "Added housing units in 2050, 2042103.0\n",
      "Remaining abandoned units after 2% and 8% decadal demolition in 2050\n",
      "1922011.0 1590161.0\n",
      "Added housing units in 2100, 11215328.0\n",
      "Remaining abandoned units after 2% and 8% decadal demolition in 2100\n",
      "10137768.0 7391815.0\n",
      "====================================================================================\n",
      "\n"
     ]
    }
   ],
   "source": [
    "df_10000 = df_ssp[df_ssp['volume_m3_perCap_2020_ssp2'] < 10000].copy()\n",
    "print(df.shape, df_ssp.shape)\n",
    "print(\"SSP 1 ==============\")\n",
    "additional_infrastructure_in_increasing_burden_cities(df_10000, 'CensusPop_20', 'ssp12050', 'ssp12100', 'volume_m3_perCap_2020_ssp1', 'volume_m3_perCap_2050_ssp1', 'volume_m3_perCap_2100_ssp1', 'RBUV_Burden_2050_ssp1', 'RBUV_Burden_2100_ssp1', infra_type='RBUV')\n",
    "print(\"SSP 2 ==============\")\n",
    "additional_infrastructure_in_increasing_burden_cities(df_10000, 'CensusPop_20', 'ssp22050', 'ssp22100', 'volume_m3_perCap_2020_ssp2', 'volume_m3_perCap_2050_ssp2', 'volume_m3_perCap_2100_ssp2', 'RBUV_Burden_2050', 'RBUV_Burden_2100', infra_type='RBUV')\n",
    "print(\"SSP 4 ==============\")\n",
    "additional_infrastructure_in_increasing_burden_cities(df_10000, 'CensusPop_20', 'ssp42050', 'ssp42100', 'volume_m3_perCap_2020_ssp4', 'volume_m3_perCap_2050_ssp4', 'volume_m3_perCap_2100_ssp4', 'RBUV_Burden_2050_ssp4', 'RBUV_Burden_2100_ssp4', infra_type='RBUV')"
   ]
  },
  {
   "cell_type": "code",
   "execution_count": 15,
   "metadata": {},
   "outputs": [
    {
     "data": {
      "text/plain": [
       "(730601.0, 2024017.0, 1922011.0, 10137768.0)"
      ]
     },
     "execution_count": 15,
     "metadata": {},
     "output_type": "execute_result"
    }
   ],
   "source": [
    "min([883070.0, 730601.0, 1082133.0, 895294.0, 1922011.0, 1590161.0]), min([3266527.0, 2381743.0, 2775910.0, 2024017.0, 10137768.0, 7391815.0]), \\\n",
    "max([883070.0, 730601.0, 1082133.0, 895294.0, 1922011.0, 1590161.0]), max([3266527.0, 2381743.0, 2775910.0, 2024017.0, 10137768.0, 7391815.0])"
   ]
  },
  {
   "cell_type": "code",
   "execution_count": 60,
   "metadata": {},
   "outputs": [
    {
     "data": {
      "image/png": "[encoded data removed]",
      "text/plain": [
       "<Figure size 700x500 with 1 Axes>"
      ]
     },
     "metadata": {},
     "output_type": "display_data"
    }
   ],
   "source": [
    "# Seaborn theme\n",
    "sns.set_theme(style=\"ticks\", palette=\"pastel\")\n",
    "\n",
    "abandoned_units = [883070.0, 730601.0, 1082133.0, 895294.0, 1922011.0, 1590161.0, 3266527.0, 2381743.0, 2775910.0, 2024017.0, 10137768.0, 7391815.0 ]\n",
    "abandoned_units_in_millions = [x / 1000000 for x in abandoned_units]\n",
    "# Sample Data\n",
    "df_buildings_scenarios = pd.DataFrame(\n",
    "    {'year': ['2050','2050','2050','2050', '2050','2050','2100','2100','2100','2100', '2100','2100'],\n",
    "     'units': abandoned_units_in_millions,\n",
    "     'scenarios': ['SSP 1', 'SSP 1', 'SSP 2', 'SSP 2','SSP 4', 'SSP 4', 'SSP 1', 'SSP 1','SSP 2', 'SSP 2', 'SSP 4', 'SSP 4'],\n",
    "     'Demolition rate':['2%', '8%', '2%', '8%','2%', '8%', '2%', '8%', '2%', '8%', '2%', '8%',]\n",
    "    })\n",
    "\n",
    "# Plot setup\n",
    "fig, ax = plt.subplots(figsize=(7, 5))\n",
    "sns.lineplot(data=df_buildings_scenarios , x=\"year\", y=\"units\", hue=\"scenarios\")\n",
    "# Clean styling\n",
    "sns.despine(offset=10, trim=True)\n",
    "# ax.set_title(r'2~8% demolition rate/decade', fontsize=12)\n",
    "ax.set_xlabel('Year', fontdict={'fontsize':16})\n",
    "ax.set_ylabel('Equivalent median housing units \\n (in millions)', fontdict={'fontsize':16})\n",
    "ax.legend()\n",
    "plt.tick_params(axis='both', labelsize=14)\n",
    "plt.tight_layout()\n",
    "plt.show()"
   ]
  },
  {
   "cell_type": "code",
   "execution_count": 61,
   "metadata": {},
   "outputs": [
    {
     "name": "stdout",
     "output_type": "stream",
     "text": [
      "Added RL from 2020 to 2050 in cities with an increasing burden in kilometers \n",
      "====================================================================================\n",
      "\n",
      "SSP 1 ==============\n",
      "Additional RL in cities with an increasing burden in kilometers\n",
      "====================================================================================\n",
      "By 2050 local lane that will be burden 47302.14 km\n",
      "By 2100 local lane that will be burden 140749.84 km\n",
      "\n",
      "\n",
      "SSP 2 ==============\n",
      "Additional RL in cities with an increasing burden in kilometers\n",
      "====================================================================================\n",
      "By 2050 local lane that will be burden 57357.57 km\n",
      "By 2100 local lane that will be burden 134588.66 km\n",
      "\n",
      "\n",
      "SSP 4 ==============\n",
      "Additional RL in cities with an increasing burden in kilometers\n",
      "====================================================================================\n",
      "By 2050 local lane that will be burden 95553.96 km\n",
      "By 2100 local lane that will be burden 290245.93 km\n",
      "\n",
      "\n"
     ]
    }
   ],
   "source": [
    "print('Added RL from 2020 to 2050 in cities with an increasing burden in kilometers ')\n",
    "print(\"====================================================================================\\n\")\n",
    "print(\"SSP 1 ==============\")\n",
    "# Added RL from 2020 to 2050 in creasing with an increasing burden for SSP1\n",
    "additional_infrastructure_in_increasing_burden_cities(df, 'CensusPop_20', 'ssp12050', 'ssp12100', 'length_m_perCap_2020_ssp1', 'length_m_perCap_2050_ssp1', 'length_m_perCap_2100_ssp1','RL_Burden_2050_ssp1', 'RL_Burden_2100_ssp1', infra_type='RL')\n",
    "print(\"SSP 2 ==============\")\n",
    "additional_infrastructure_in_increasing_burden_cities(df, 'CensusPop_20', 'ssp22050', 'ssp22100', 'length_m_perCap_2020_ssp2', 'length_m_perCap_2050_ssp2', 'length_m_perCap_2100_ssp2', 'RL_Burden_2050', 'RL_Burden_2100', infra_type='RL')\n",
    "print(\"SSP 4 ==============\")\n",
    "# Added RL from 2020 to 2050 in creasing with an increasing burden for SSP4\n",
    "additional_infrastructure_in_increasing_burden_cities(df, 'CensusPop_20', 'ssp42050', 'ssp42100', 'length_m_perCap_2020_ssp4', 'length_m_perCap_2050_ssp4', 'length_m_perCap_2100_ssp4', 'RL_Burden_2050_ssp4', 'RL_Burden_2100_ssp4', infra_type='RL')"
   ]
  },
  {
   "cell_type": "code",
   "execution_count": 62,
   "metadata": {},
   "outputs": [
    {
     "data": {
      "image/png": "[encoded data removed]",
      "text/plain": [
       "<Figure size 700x500 with 1 Axes>"
      ]
     },
     "metadata": {},
     "output_type": "display_data"
    }
   ],
   "source": [
    "# Apply Seaborn theme\n",
    "sns.set_theme(style=\"ticks\", palette=\"pastel\")\n",
    "\n",
    "df_roadways_scenarios = pd.DataFrame(\n",
    "    {'year': ['2050','2100','2050','2100', '2050','2100'],\n",
    "     'units': [47.302, 140.750, 57.358, 134.589, 95.554, 290.246],\n",
    "     'scenarios': ['SSP 1', 'SSP 1', 'SSP 2', 'SSP 2','SSP 4', 'SSP 4'],\n",
    "    })\n",
    "\n",
    "# Plot setup\n",
    "fig, ax = plt.subplots(figsize=(7, 5))\n",
    "sns.pointplot(data=df_roadways_scenarios , x=\"year\", y=\"units\", hue=\"scenarios\",\n",
    "              linestyle=\"none\")\n",
    "\n",
    "# Clean styling\n",
    "sns.despine(offset=10, trim=True)\n",
    "# ax.set_title(r'Total added lane kilometers with sampled $\\beta$', fontsize=12)\n",
    "ax.set_xlabel('Year', fontdict={'fontsize':16})\n",
    "ax.set_ylabel(\"Added local roadway lane \\n (in thousand kms)\", fontdict={'fontsize':14})\n",
    "ax.legend()\n",
    "plt.tick_params(axis='both', labelsize=14)\n",
    "plt.tight_layout()\n",
    "plt.show()"
   ]
  }
 ],
 "metadata": {
  "kernelspec": {
   "display_name": "analyzeInfra",
   "language": "python",
   "name": "python3"
  },
  "language_info": {
   "codemirror_mode": {
    "name": "ipython",
    "version": 3
   },
   "file_extension": ".py",
   "mimetype": "text/x-python",
   "name": "python",
   "nbconvert_exporter": "python",
   "pygments_lexer": "ipython3",
   "version": "3.12.0"
  }
 },
 "nbformat": 4,
 "nbformat_minor": 2
}
