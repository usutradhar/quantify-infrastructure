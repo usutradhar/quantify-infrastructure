{
 "cells": [
  {
   "cell_type": "code",
   "execution_count": 1,
   "id": "10458882",
   "metadata": {},
   "outputs": [],
   "source": [
    "# process the data to fit in the scaling model\n",
    "\n",
    "# import all packages\n",
    "import pandas as pd\n",
    "import numpy as np\n",
    "import glob, os\n",
    "import matplotlib.pyplot as plt\n",
    "import plotly.express as px\n",
    "import seaborn as sns\n",
    "import math\n",
    "import statsmodels.formula.api as sm\n",
    "from statsmodels.stats.anova import anova_lm\n",
    "import geopandas as gpd\n",
    "\n",
    "### Buildings data\n",
    "### Surface and Volume from GHSL\n",
    "\n",
    "def process_residential_builtup_volume_data():\n",
    "    # reading data from multiple years\n",
    "    def read_Data(path, merged_column_names, builtarea):\n",
    "        df_merged = pd.DataFrame(columns = ['GEOID'])\n",
    "        if builtarea == 'surface':\n",
    "            divideby = 1 # area in sqmeter\n",
    "        elif builtarea == 'volume':\n",
    "            divideby = 1 # volume in m^3\n",
    "        else:\n",
    "            print('Check input format')\n",
    "\n",
    "        merged_column_names.append(builtarea)\n",
    "\n",
    "        pattern = os.path.join(path, f\"*csv\")\n",
    "        for file in glob.glob(pattern):\n",
    "            df = pd.read_csv(file, dtype={'GEOID':str})\n",
    "            df['TOTALAREA_SQKM'] = df[['ALAND', 'AWATER']].sum(axis=1)/1000000\n",
    "            df[builtarea] = df['sum']/divideby\n",
    "            df = df.sort_values(by='GEOID').reset_index(drop=True)\n",
    "            # print(df.columns)\n",
    "            # print(file[-9:-4])\n",
    "            print('Shape of the dataframe:', df.shape, 'and Total built area (volume) in squaremeters (m^3): ', df[builtarea].sum())\n",
    "            df_merged = df_merged.merge(df, on='GEOID', suffixes = ('', file[-9:-4]), how = 'outer')\n",
    "\n",
    "        return df_merged\n",
    "\n",
    "    column_names = ['GEOID', 'NAMELSAD', 'sum']\n",
    "\n",
    "    df_surface = read_Data(r'data\\ghsl\\Surface\\\\', column_names, 'surface')\n",
    "    df_volume = read_Data(r'data\\ghsl\\Volume\\\\', column_names, 'volume')\n",
    "\n",
    "    # To check the consecutive changes in area/ volumne in each 10 yr interval\n",
    "    df_surface['change_80_90'] = (df_surface['surface_1990'] - df_surface['surface'])\n",
    "    df_surface['change_90_00'] = (df_surface['surface_2000'] - df_surface['surface_1990'])\n",
    "    df_surface['change_00_10'] = (df_surface['surface_2010'] - df_surface['surface_2000'])\n",
    "    df_surface['change_10_20'] = (df_surface['surface_2020'] - df_surface['surface_2010'])\n",
    "\n",
    "    df_volume['Vchange_80_90'] = (df_volume['volume_1990'] - df_volume['volume'])\n",
    "    df_volume['Vchange_90_00'] = (df_volume['volume_2000'] - df_volume['volume_1990'])\n",
    "    df_volume['Vchange_00_10'] = (df_volume['volume_2010'] - df_volume['volume_2000'])\n",
    "    df_volume['Vchange_10_20'] = (df_volume['volume_2020'] - df_volume['volume_2010'])\n",
    "\n",
    "    \"\"\"### Non residential buildings data from GHSL for the year 2020\"\"\"\n",
    "\n",
    "    df_non_res_S = pd.read_csv(r'data\\ghsl\\Non_res_surface\\BuiltArea_GHSL_S_nres_2020.csv')\n",
    "    df_non_res_S['GEOID'] = df_non_res_S['GEOID'].astype(str).str.rjust(7, '0')\n",
    "    df_non_res_S.rename(columns = {'sum':'surface_nonRes_2020'}, inplace= True)\n",
    "    df_non_res_S.columns\n",
    "    df_non_res_V = pd.read_csv(r'data\\ghsl\\Non_res_surface\\BuiltArea_GHSL_V_nres_2020.csv')\n",
    "    df_non_res_V['GEOID'] = df_non_res_V['GEOID'].astype(str).str.rjust(7, '0')\n",
    "    df_non_res_V.rename(columns = {'sum':'volume_nonRes_2020'}, inplace= True)\n",
    "    df_non_res_V.columns\n",
    "\n",
    "    \"\"\"### Merge built are with nonResidential: Find residential only\"\"\"\n",
    "\n",
    "    # Merge surface with volume and non residential\n",
    "    # Here surface refers to total building are: res + non-res\n",
    "    df = df_volume.merge(df_surface[['GEOID','surface', 'surface_1990', 'surface_1995', 'surface_2000', 'surface_2010', 'surface_2015', 'surface_2020',\n",
    "                                    'change_80_90', 'change_90_00', 'change_00_10', 'change_10_20']], on = 'GEOID')\n",
    "    df = df.merge(df_non_res_S[['GEOID', 'surface_nonRes_2020']], on ='GEOID')\n",
    "    df = df.merge(df_non_res_V[['GEOID', 'volume_nonRes_2020']], on ='GEOID')\n",
    "    df['surface_Res_2020'] = df['surface_2020'] - df['surface_nonRes_2020']\n",
    "    df['volume_Res_2020'] = df['volume_2020'] - df['volume_nonRes_2020']\n",
    "\n",
    "    # Residential height in meter\n",
    "    df['height_building'] = df['volume_2020'] / df['surface_2020']\n",
    "    df['floors'] = df['height_building']// 3.048\n",
    "\n",
    "    df[['NAMELSAD','surface_2020', 'volume_2020','surface_nonRes_2020','surface_Res_2020','volume_nonRes_2020', 'volume_Res_2020']].describe()/1000\n",
    "\n",
    "    df[df['volume_2020']/df['surface_2020'] >= 3][['NAMELSAD','surface_2020', 'volume_2020','surface_nonRes_2020','surface_Res_2020']].sort_values(by = 'surface_2020')\n",
    "\n",
    "    print(\"Number of missing values in built area data: ===\")\n",
    "    df.isna().sum().sum()\n",
    "\n",
    "    # Area of the place in sqkm\n",
    "    df['landAreaSqkm'] = df['ALAND']/1000000\n",
    "    # Percent of total area that has buildings\n",
    "    df['percent_built_surface'] = df['surface_2020'] * 100/df['ALAND']\n",
    "\n",
    "    df.isna().sum().sum()\n",
    "\n",
    "    \"\"\"### Add housing units and age from ACS\"\"\"\n",
    "\n",
    "    df_YearBuilt = pd.read_csv(r'data\\housing_data_ACS\\HousingDataCleaned.csv', index_col = 0)\n",
    "    df_YearBuilt['GEOID'] = df_YearBuilt['GEOID'].str[9:]\n",
    "\n",
    "    df_YearBuilt[['GEOID','complete_plumbing', 'Year_Built']]\n",
    "\n",
    "    df_YearBuilt[df_YearBuilt['GEOID'] == '0652582'][['GEOID', ' !!Total:', 'HUs_occupied', 'HUs_vaccant', 'NAME', 'complete_plumbing', 'Year_Built', 'Percent_Built']]\n",
    "\n",
    "    df_YearBuilt_selected = df_YearBuilt[['GEOID', ' !!Total:', 'HUs_occupied', 'HUs_vaccant', 'NAME', 'HUs_Total', 'YB_>=_2020', 'YB_2010_2019', 'YB_2000_2009',\n",
    "                'YB_1980_1999', 'YB_1960_1979', 'YB_1940_1959', 'YB_<=_1939','Year_Built', 'Percent_Built']]\n",
    "\n",
    "    df_YearBuilt.columns\n",
    "\n",
    "    # Area of the place in sqkm\n",
    "    df['landAreaSqkm'] = df['ALAND']/1000000\n",
    "    # Percent of total area that has buildings\n",
    "    df['percent_built_surface'] = df['surface_2020'] * 100/df['ALAND']\n",
    "\n",
    "    df.isna().sum().sum()\n",
    "\n",
    "    \"\"\"### Merge with surface-volume with HUs and age\"\"\"\n",
    "\n",
    "    df_buildings = df.merge(df_YearBuilt_selected, on = 'GEOID')\n",
    "\n",
    "    # get an weighted age for each place\n",
    "    df_buildings['weighted_avg_age'] = ((2024-1939)*df_buildings['YB_<=_1939'] + (2024-1950)*df_buildings['YB_1940_1959'] + (2024-1970)*df_buildings['YB_1960_1979'] +\n",
    "                                    (2024-1990)*df_buildings['YB_1980_1999'] + (2024-2004)*df_buildings['YB_2000_2009'] + (2024-2014)*df_buildings['YB_2010_2019'] +\n",
    "                                    (2024-2022)*df_buildings['YB_>=_2020'])/100\n",
    "\n",
    "    df_buildings[['STATEFP', 'NAMELSAD','YB_>=_2020','YB_2010_2019', 'YB_2000_2009', 'Year_Built', 'Percent_Built', 'weighted_avg_age']].isna().sum()\n",
    "\n",
    "    \"\"\"### Import population and attributes data from depopulation study\"\"\"\n",
    "\n",
    "    df_population = pd.read_csv(r'data\\population\\forecasted_trend.csv', index_col  = 0)\n",
    "    df_population['GEOID'] = df_population['GEOID'].astype(str).str.rjust(7,'0')\n",
    "\n",
    "    df_attributes = pd.read_csv(r'data\\population\\df_attributes.csv', index_col  = 0)\n",
    "    df_attributes['GEOID'] = df_attributes['GEOID'].astype(str).str.rjust(7,'0')\n",
    "\n",
    "    df_pop_attr = df_population.merge(df_attributes[['GEOID', 'REGION', 'city type', 'weighted_HU_density_sqmi',\n",
    "                                                    'ua-to-place allocation factor_max', 'population_ua_min',\n",
    "                                                    'population_ua_max', 'median_income']], on = 'GEOID')\n",
    "\n",
    "    df_attributes.shape, df_population.shape\n",
    "\n",
    "    df_attributes.columns\n",
    "\n",
    "    df_population[(df_population['ssp42020'] -df_population['CensusPop_20']) > 0][['NAMELSAD', 'CensusPop_20','ssp22020', 'ssp22030', 'ssp22040',\n",
    "                                                                                'ssp22050', 'ssp22060','ssp22070', 'ssp22080', 'ssp22090', 'ssp22100']]\n",
    "\n",
    "    df_population[['ssp22020', 'ssp22030', 'ssp22040', 'ssp22050','ssp22060', 'ssp22070', 'ssp22080', 'ssp22090','ssp22100', 'ssp12020', 'ssp12030', 'ssp12040', 'ssp12050', 'ssp12060','ssp12070',\n",
    "                    'ssp12080', 'ssp12090', 'ssp12100', 'ssp42020', 'ssp42030', 'ssp42040', 'ssp42050', 'ssp42060','ssp42070', 'ssp42080', 'ssp42090',\n",
    "                    'ssp42100']] =df_population[['ssp22020', 'ssp22030', 'ssp22040', 'ssp22050','ssp22060', 'ssp22070', 'ssp22080', 'ssp22090','ssp22100', 'ssp12020', 'ssp12030', 'ssp12040', 'ssp12050',\n",
    "                    'ssp12060','ssp12070','ssp12080', 'ssp12090', 'ssp12100', 'ssp42020', 'ssp42030', 'ssp42040', 'ssp42050', 'ssp42060', 'ssp42070', 'ssp42080', 'ssp42090', 'ssp42100']].round(0)\n",
    "\n",
    "    # Total population for SSP 2 for each 10 yr interval\n",
    "    print('Total population in millions for 51 states: ===')\n",
    "    df_population[['CensusPop_20','ssp22020', 'ssp22030', 'ssp22040', 'ssp22050', 'ssp22060','ssp22070', 'ssp22080', 'ssp22090', 'ssp22100']].sum() / 1000000\n",
    "\n",
    "    \"\"\"### Merge buildings with population\"\"\"\n",
    "\n",
    "    building_with_pop_all = df_buildings.merge(df_pop_attr[['GEOID', 'State', 'REGION', 'ua-to-place allocation factor_max', 'population_ua_min',\n",
    "                                                        'population_ua_max','label', 'future trend from SSP 2', 'CensusPop_20', 'city type','weighted_HU_density_sqmi','median_income',\n",
    "                                                    'ssp22020', 'ssp22030', 'ssp22040', 'ssp22050','ssp22060', 'ssp22070', 'ssp22080',\n",
    "                                                    'ssp22090','ssp22100', 'ssp12020', 'ssp12030', 'ssp12040', 'ssp12050', 'ssp12060','ssp12070',\n",
    "                                                    'ssp12080', 'ssp12090', 'ssp12100', 'ssp42020', 'ssp42030', 'ssp42040', 'ssp42050', 'ssp42060',\n",
    "                                                    'ssp42070', 'ssp42080', 'ssp42090', 'ssp42100']], on = 'GEOID', how='left')\n",
    "\n",
    "    building_with_pop_all[building_with_pop_all['GEOID'].str.startswith('214800')][['GEOID', 'NAMELSAD','CensusPop_20', 'ssp22020', 'ssp22030', 'ssp22040', 'ssp22050']]\n",
    "\n",
    "    building_with_pop_all.shape, df_buildings.shape, df_population.shape, df_attributes.shape\n",
    "\n",
    "    building_with_pop_all[['CensusPop_20','ssp22020', 'ssp22030', 'ssp22040', 'ssp22050','ssp22060', 'ssp22070', 'ssp22080','ssp22090','ssp22100',\n",
    "                        'ssp12020', 'ssp12030', 'ssp12040', 'ssp12050', 'ssp12060','ssp12070', 'ssp12080', 'ssp12090', 'ssp12100','ssp42020',\n",
    "                        'ssp42030', 'ssp42040', 'ssp42050', 'ssp42060','ssp42070', 'ssp42080', 'ssp42090', 'ssp42100']].isna().sum().sum()\n",
    "\n",
    "    building_with_pop_all['percentchangeinpop'] = np.abs((building_with_pop_all['ssp42020'] - building_with_pop_all['CensusPop_20'])/building_with_pop_all['CensusPop_20'])\n",
    "\n",
    "    print(\"Shape of building dataframe\", building_with_pop_all.shape[0])\n",
    "    print(\"No of places within 1% variation in 2020 census population and ssp scenario 1, 2 and 4\")\n",
    "    print(\"ssp1\", building_with_pop_all[np.abs((building_with_pop_all['ssp12020'] - building_with_pop_all['CensusPop_20'])/building_with_pop_all['CensusPop_20']) < 0.01].shape[0])\n",
    "    print(\"ssp2\", building_with_pop_all[np.abs((building_with_pop_all['ssp22020'] - building_with_pop_all['CensusPop_20'])/building_with_pop_all['CensusPop_20']) < 0.01].shape[0])\n",
    "    print(\"ssp4\", building_with_pop_all[np.abs((building_with_pop_all['ssp42020'] - building_with_pop_all['CensusPop_20'])/building_with_pop_all['CensusPop_20']) < 0.01].shape[0])\n",
    "    print(\"No of places over 1% variation in 2020 census population and ssp scenario 1, 2 and 4\")\n",
    "    print(\"ssp1\", building_with_pop_all[np.abs((building_with_pop_all['ssp12020'] - building_with_pop_all['CensusPop_20'])/building_with_pop_all['CensusPop_20']) >= 0.01].shape[0])\n",
    "    print(\"ssp2\", building_with_pop_all[np.abs((building_with_pop_all['ssp22020'] - building_with_pop_all['CensusPop_20'])/building_with_pop_all['CensusPop_20']) >= 0.01].shape[0])\n",
    "    print(\"ssp4\", building_with_pop_all[np.abs((building_with_pop_all['ssp42020'] - building_with_pop_all['CensusPop_20'])/building_with_pop_all['CensusPop_20']) >= 0.01].shape[0])\n",
    "    print(\"No of places over 5% variation in 2020 census population and ssp scenario 1, 2 and 4\")\n",
    "    print(\"ssp1\", building_with_pop_all[np.abs((building_with_pop_all['ssp12020'] - building_with_pop_all['CensusPop_20'])/building_with_pop_all['CensusPop_20']) >= 0.05].shape[0])\n",
    "    print(\"ssp2\", building_with_pop_all[np.abs((building_with_pop_all['ssp22020'] - building_with_pop_all['CensusPop_20'])/building_with_pop_all['CensusPop_20']) >= 0.05].shape[0])\n",
    "    print(\"ssp4\", building_with_pop_all[np.abs((building_with_pop_all['ssp42020'] - building_with_pop_all['CensusPop_20'])/building_with_pop_all['CensusPop_20']) >= 0.05].shape[0])\n",
    "\n",
    "    # excluding cities that varies over 10% in population forecast in 2020 for ssp4\n",
    "    building_with_pop = building_with_pop_all[(building_with_pop_all['percentchangeinpop'] <=.01)]\n",
    "\n",
    "    # building_with_pop[building_with_pop['city type'] == 'not enough data'].head() #shape[0] # ['CensusPop_20'].sum()\n",
    "\n",
    "    building_with_pop.groupby('city type')[['Percent_Built','weighted_HU_density_sqmi']].describe()\n",
    "\n",
    "    building_with_pop['weighted_HU_density_sqmi'].isna().sum()\n",
    "\n",
    "    condition = building_with_pop[' !!Total:'] != 0\n",
    "    building_with_pop.loc[condition,'HU_density_sqmile'] = building_with_pop[' !!Total:'] / (3.86102e-7 * building_with_pop['ALAND'])\n",
    "    building_with_pop.loc[condition,'avg_HU_size_Res_sqm'] = (building_with_pop['volume_Res_2020'] / building_with_pop[' !!Total:']) # measures avg res unit volume\n",
    "\n",
    "    building_with_pop[['weighted_HU_density_sqmi','HU_density_sqmile','avg_HU_size_Res_sqm']].describe()\n",
    "\n",
    "    print(building_with_pop.shape)\n",
    "\n",
    "    return building_with_pop"
   ]
  },
  {
   "cell_type": "code",
   "execution_count": 2,
   "id": "1fdf6fb4",
   "metadata": {},
   "outputs": [
    {
     "name": "stdout",
     "output_type": "stream",
     "text": [
      "Shape of the dataframe: (32188, 8) and Total built area (volume) in squaremeters (m^3):  21644923940.827446\n",
      "Shape of the dataframe: (32188, 8) and Total built area (volume) in squaremeters (m^3):  24308169725.54902\n",
      "Shape of the dataframe: (32188, 8) and Total built area (volume) in squaremeters (m^3):  27090809701.21176\n",
      "Shape of the dataframe: (32188, 8) and Total built area (volume) in squaremeters (m^3):  30132932830.333332\n",
      "Shape of the dataframe: (32188, 8) and Total built area (volume) in squaremeters (m^3):  34211558949.564705\n",
      "Shape of the dataframe: (32188, 8) and Total built area (volume) in squaremeters (m^3):  36204795388.78432\n",
      "Shape of the dataframe: (32188, 8) and Total built area (volume) in squaremeters (m^3):  37375579106.32157\n",
      "Shape of the dataframe: (32188, 8) and Total built area (volume) in squaremeters (m^3):  157313248400.5608\n",
      "Shape of the dataframe: (32188, 8) and Total built area (volume) in squaremeters (m^3):  173143434872.09802\n",
      "Shape of the dataframe: (32188, 8) and Total built area (volume) in squaremeters (m^3):  191191214212.47455\n",
      "Shape of the dataframe: (32188, 8) and Total built area (volume) in squaremeters (m^3):  210843461302.31766\n",
      "Shape of the dataframe: (32188, 8) and Total built area (volume) in squaremeters (m^3):  233866523254.10193\n",
      "Shape of the dataframe: (32188, 8) and Total built area (volume) in squaremeters (m^3):  244997443682.14117\n",
      "Shape of the dataframe: (32188, 8) and Total built area (volume) in squaremeters (m^3):  251101903995.37256\n",
      "Number of missing values in built area data: ===\n",
      "Total population in millions for 51 states: ===\n",
      "Shape of building dataframe 31909\n",
      "No of places within 1% variation in 2020 census population and ssp scenario 1, 2 and 4\n",
      "ssp1 18241\n",
      "ssp2 29417\n",
      "ssp4 30810\n",
      "No of places over 1% variation in 2020 census population and ssp scenario 1, 2 and 4\n",
      "ssp1 13327\n",
      "ssp2 2151\n",
      "ssp4 758\n",
      "No of places over 5% variation in 2020 census population and ssp scenario 1, 2 and 4\n",
      "ssp1 340\n",
      "ssp2 305\n",
      "ssp4 294\n",
      "(30810, 129)\n"
     ]
    },
    {
     "name": "stderr",
     "output_type": "stream",
     "text": [
      "C:\\Users\\uttar\\AppData\\Local\\Temp\\ipykernel_18340\\2632400463.py:203: SettingWithCopyWarning: \n",
      "A value is trying to be set on a copy of a slice from a DataFrame.\n",
      "Try using .loc[row_indexer,col_indexer] = value instead\n",
      "\n",
      "See the caveats in the documentation: https://pandas.pydata.org/pandas-docs/stable/user_guide/indexing.html#returning-a-view-versus-a-copy\n",
      "  building_with_pop.loc[condition,'HU_density_sqmile'] = building_with_pop[' !!Total:'] / (3.86102e-7 * building_with_pop['ALAND'])\n",
      "C:\\Users\\uttar\\AppData\\Local\\Temp\\ipykernel_18340\\2632400463.py:204: SettingWithCopyWarning: \n",
      "A value is trying to be set on a copy of a slice from a DataFrame.\n",
      "Try using .loc[row_indexer,col_indexer] = value instead\n",
      "\n",
      "See the caveats in the documentation: https://pandas.pydata.org/pandas-docs/stable/user_guide/indexing.html#returning-a-view-versus-a-copy\n",
      "  building_with_pop.loc[condition,'avg_HU_size_Res_sqm'] = (building_with_pop['volume_Res_2020'] / building_with_pop[' !!Total:']) # measures avg res unit volume\n"
     ]
    }
   ],
   "source": [
    "building_with_pop = process_residential_builtup_volume_data()"
   ]
  },
  {
   "cell_type": "code",
   "execution_count": 3,
   "id": "26c54fa4",
   "metadata": {},
   "outputs": [
    {
     "data": {
      "text/plain": [
       " !!Total:       105018300.0\n",
       "HUs_occupied     95676879.0\n",
       "HUs_vaccant       9341421.0\n",
       "HUs_Total        93990067.0\n",
       "dtype: float64"
      ]
     },
     "execution_count": 3,
     "metadata": {},
     "output_type": "execute_result"
    }
   ],
   "source": [
    "building_with_pop[[' !!Total:', 'HUs_occupied', 'HUs_vaccant', 'HUs_Total',]].sum()"
   ]
  },
  {
   "cell_type": "code",
   "execution_count": 4,
   "id": "5c7611b7",
   "metadata": {},
   "outputs": [
    {
     "data": {
      "text/plain": [
       "count     30772.000000\n",
       "mean       2000.977482\n",
       "std        5412.719392\n",
       "min           0.000000\n",
       "25%        1267.854755\n",
       "50%        1663.456848\n",
       "75%        2164.132529\n",
       "max      344299.263434\n",
       "Name: avg_HU_size_Res_sqm, dtype: float64"
      ]
     },
     "execution_count": 4,
     "metadata": {},
     "output_type": "execute_result"
    }
   ],
   "source": [
    "building_with_pop['avg_HU_size_Res_sqm'].describe()"
   ]
  },
  {
   "cell_type": "code",
   "execution_count": 17,
   "id": "c490986f",
   "metadata": {},
   "outputs": [
    {
     "data": {
      "text/plain": [
       "0.010     380.329257\n",
       "0.050     800.553771\n",
       "0.100     975.491975\n",
       "0.250    1267.854755\n",
       "0.500    1663.456848\n",
       "0.750    2164.132529\n",
       "0.900    2727.494515\n",
       "0.950    3170.463239\n",
       "0.990    5225.687228\n",
       "0.995    7812.248977\n",
       "Name: avg_HU_size_Res_sqm, dtype: float64"
      ]
     },
     "execution_count": 17,
     "metadata": {},
     "output_type": "execute_result"
    }
   ],
   "source": [
    "building_with_pop['avg_HU_size_Res_sqm'].quantile([0.01, 0.05, 0.1, 0.25, 0.5, 0.75, 0.9, 0.95, 0.99, 0.995])"
   ]
  },
  {
   "cell_type": "code",
   "execution_count": 18,
   "id": "e585b1d4",
   "metadata": {},
   "outputs": [
    {
     "data": {
      "image/png": "[encoded data removed]",
      "text/plain": [
       "<Figure size 1000x600 with 1 Axes>"
      ]
     },
     "metadata": {},
     "output_type": "display_data"
    }
   ],
   "source": [
    "building_with_pop[building_with_pop['avg_HU_size_Res_sqm']<10000]['avg_HU_size_Res_sqm'].hist(bins=100, figsize=(10, 6), color='skyblue', edgecolor='black')\n",
    "plt.show()\n"
   ]
  },
  {
   "cell_type": "code",
   "execution_count": 5,
   "id": "1212ef52",
   "metadata": {},
   "outputs": [
    {
     "data": {
      "text/plain": [
       "(2000.9774818415049, 1663.4568478086876, 5412.719391507159)"
      ]
     },
     "execution_count": 5,
     "metadata": {},
     "output_type": "execute_result"
    }
   ],
   "source": [
    "building_with_pop['avg_HU_size_Res_sqm'].mean(), building_with_pop['avg_HU_size_Res_sqm'].median(), building_with_pop['avg_HU_size_Res_sqm'].std()"
   ]
  },
  {
   "cell_type": "code",
   "execution_count": 6,
   "id": "194b0b0e",
   "metadata": {},
   "outputs": [
    {
     "data": {
      "text/plain": [
       "(122026414.31789465, 101464963.5053294, 119845640.99128985, 2236.52)"
      ]
     },
     "execution_count": 6,
     "metadata": {},
     "output_type": "execute_result"
    }
   ],
   "source": [
    "202929927010.6588/1663,202929927010.6588/2000, 239691281982.5797/2000, 187*4.6*2.6"
   ]
  }
 ],
 "metadata": {
  "kernelspec": {
   "display_name": "Python 3",
   "language": "python",
   "name": "python3"
  },
  "language_info": {
   "codemirror_mode": {
    "name": "ipython",
    "version": 3
   },
   "file_extension": ".py",
   "mimetype": "text/x-python",
   "name": "python",
   "nbconvert_exporter": "python",
   "pygments_lexer": "ipython3",
   "version": "3.12.0"
  }
 },
 "nbformat": 4,
 "nbformat_minor": 5
}
