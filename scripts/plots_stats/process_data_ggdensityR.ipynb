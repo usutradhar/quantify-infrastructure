{
 "cells": [
  {
   "cell_type": "markdown",
   "metadata": {},
   "source": [
    "### Extract data for density plot in R"
   ]
  },
  {
   "cell_type": "code",
   "execution_count": 2,
   "metadata": {},
   "outputs": [
    {
     "name": "stdout",
     "output_type": "stream",
     "text": [
      "(30483, 44)\n",
      "count     30483.000000\n",
      "mean        898.667485\n",
      "std        2226.578541\n",
      "min          12.425720\n",
      "25%         582.972634\n",
      "50%         772.817467\n",
      "75%        1023.263852\n",
      "max      341691.085869\n",
      "Name: volume_m3_perCap_2020, dtype: float64 count    30483.000000\n",
      "mean        52.579440\n",
      "std        122.209858\n",
      "min          0.010721\n",
      "25%         16.871593\n",
      "50%         29.798593\n",
      "75%         53.601654\n",
      "max       8178.395442\n",
      "Name: length_m_perCap_2020, dtype: float64\n"
     ]
    }
   ],
   "source": [
    "# import all packages\n",
    "import pandas as pd\n",
    "  \n",
    "df_roads = pd.read_csv(r'outputfiles\\csvs\\roads_perCap_ssp2_local.csv', index_col = 0)\n",
    "df_roads['GEOID'] = df_roads['GEOID'].astype('str').str.rjust(7, '0')\n",
    "\n",
    "df_buildings = pd.read_csv(r'outputfiles\\csvs\\buildings_perCap_ssp2.csv', index_col = 0)\n",
    "df_buildings['GEOID'] = df_buildings['GEOID'].astype('str').str.rjust(7, '0')\n",
    "\n",
    "df_all = df_buildings.merge(df_roads, on =['GEOID', 'NAMELSAD'])\n",
    "print(df_all.shape)\n",
    "\n",
    "df_all['State_name'] = df_all['GEOID'].str[:2]\n",
    "print(df_all[\"volume_m3_perCap_2020\"].describe(), df_all['length_m_perCap_2020'].describe())\n",
    "df_all_pop_below = df_all[df_all['CensusPop_20'] <= 10000]\n",
    "\n",
    "df_grouped1 = df_all_pop_below.groupby(['city type','REGION','State_name']).agg({'CensusPop_20': 'sum', 'ssp22050':'sum', 'ssp22100':'sum',\n",
    "                                                                                   'NAMELSAD': 'count',\n",
    "                                                                      'volume_m3_perCap_2020': 'median', 'length_m_perCap_2020': 'median',\n",
    "                                                                      'volume_m3_perCap_2050':'median', 'length_m_perCap_2050': 'median', 'volume_m3_perCap_2100':'median','length_m_perCap_2100': 'median'}).reset_index()\n",
    "\n",
    "df_grouped2 = df_all_pop_below.groupby(['citytype_at_2050','REGION','State_name']).agg({'CensusPop_20': 'sum', 'ssp22050':'sum', 'ssp22100':'sum',\n",
    "                                                                                   'NAMELSAD': 'count',\n",
    "                                                                      'volume_m3_perCap_2020': 'median', 'length_m_perCap_2020': 'median',\n",
    "                                                                      'volume_m3_perCap_2050':'median', 'length_m_perCap_2050': 'median', 'volume_m3_perCap_2100':'median','length_m_perCap_2100': 'median'}).reset_index()\n",
    "\n",
    "df_grouped3 = df_all_pop_below.groupby(['citytype_at_2100','REGION','State_name']).agg({'CensusPop_20': 'sum', 'ssp22050':'sum', 'ssp22100':'sum',\n",
    "                                                                                   'NAMELSAD': 'count',\n",
    "                                                                      'volume_m3_perCap_2020': 'median', 'length_m_perCap_2020': 'median',\n",
    "                                                                      'volume_m3_perCap_2050':'median', 'length_m_perCap_2050': 'median', 'volume_m3_perCap_2100':'median','length_m_perCap_2100': 'median'}).reset_index()\n",
    "\n",
    "df_grouped1.to_csv(r'outputfiles\\csvs\\df_grouped_ssp2_1.csv')\n",
    "df_grouped2.to_csv(r'outputfiles\\csvs\\df_grouped2_ssp2_1.csv')\n",
    "df_grouped3.to_csv(r'outputfiles\\csvs\\df_grouped3_ssp2_1.csv')\n",
    "\n",
    "df_all_pop_above = df_all[df_all['CensusPop_20'] > 10000]\n",
    "\n",
    "df_grouped4 = df_all_pop_above.groupby(['city type','REGION','State_name']).agg({'CensusPop_20': 'sum', 'ssp22050':'sum', 'ssp22100':'sum',\n",
    "                                                                                   'NAMELSAD': 'count',\n",
    "                                                                      'volume_m3_perCap_2020': 'median', 'length_m_perCap_2020': 'median',\n",
    "                                                                      'volume_m3_perCap_2050':'median', 'length_m_perCap_2050': 'median', 'volume_m3_perCap_2100':'median','length_m_perCap_2100': 'median'}).reset_index()\n",
    "\n",
    "df_grouped5 = df_all_pop_above.groupby(['citytype_at_2050','REGION','State_name']).agg({'CensusPop_20': 'sum', 'ssp22050':'sum', 'ssp22100':'sum',\n",
    "                                                                                   'NAMELSAD': 'count',\n",
    "                                                                      'volume_m3_perCap_2020': 'median', 'length_m_perCap_2020': 'median',\n",
    "                                                                      'volume_m3_perCap_2050':'median', 'length_m_perCap_2050': 'median', 'volume_m3_perCap_2100':'median','length_m_perCap_2100': 'median'}).reset_index()\n",
    "\n",
    "df_grouped6 = df_all_pop_above.groupby(['citytype_at_2100','REGION','State_name']).agg({'CensusPop_20': 'sum', 'ssp22050':'sum', 'ssp22100':'sum',\n",
    "                                                                                   'NAMELSAD': 'count',\n",
    "                                                                      'volume_m3_perCap_2020': 'median', 'length_m_perCap_2020': 'median',\n",
    "                                                                      'volume_m3_perCap_2050':'median', 'length_m_perCap_2050': 'median', 'volume_m3_perCap_2100':'median','length_m_perCap_2100': 'median'}).reset_index()\n",
    "\n",
    "df_grouped4.to_csv(r'outputfiles\\csvs\\df_grouped_ssp2_2.csv')\n",
    "df_grouped5.to_csv(r'outputfiles\\csvs\\df_grouped2_ssp2_2.csv')\n",
    "df_grouped6.to_csv(r'outputfiles\\csvs\\df_grouped3_ssp2_2.csv')"
   ]
  }
 ],
 "metadata": {
  "kernelspec": {
   "display_name": "analyzeInfra",
   "language": "python",
   "name": "python3"
  },
  "language_info": {
   "codemirror_mode": {
    "name": "ipython",
    "version": 3
   },
   "file_extension": ".py",
   "mimetype": "text/x-python",
   "name": "python",
   "nbconvert_exporter": "python",
   "pygments_lexer": "ipython3",
   "version": "3.12.0"
  }
 },
 "nbformat": 4,
 "nbformat_minor": 2
}
